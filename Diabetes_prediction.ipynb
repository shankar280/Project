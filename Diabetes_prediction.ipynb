{
  "nbformat": 4,
  "nbformat_minor": 0,
  "metadata": {
    "colab": {
      "provenance": []
    },
    "kernelspec": {
      "name": "python3",
      "display_name": "Python 3"
    },
    "language_info": {
      "name": "python"
    }
  },
  "cells": [
    {
      "cell_type": "markdown",
      "source": [
        "**Diabetes prediction system using Machine learning algorithm**"
      ],
      "metadata": {
        "id": "fJRE7q8IAMZx"
      }
    },
    {
      "cell_type": "code",
      "source": [
        "pip install scikit-learn"
      ],
      "metadata": {
        "colab": {
          "base_uri": "https://localhost:8080/"
        },
        "id": "DNJXECR96FQf",
        "outputId": "5c195e8c-a24e-412c-d5de-929e5ca6f949"
      },
      "execution_count": 1,
      "outputs": [
        {
          "output_type": "stream",
          "name": "stdout",
          "text": [
            "Looking in indexes: https://pypi.org/simple, https://us-python.pkg.dev/colab-wheels/public/simple/\n",
            "Requirement already satisfied: scikit-learn in /usr/local/lib/python3.8/dist-packages (1.0.2)\n",
            "Requirement already satisfied: threadpoolctl>=2.0.0 in /usr/local/lib/python3.8/dist-packages (from scikit-learn) (3.1.0)\n",
            "Requirement already satisfied: scipy>=1.1.0 in /usr/local/lib/python3.8/dist-packages (from scikit-learn) (1.7.3)\n",
            "Requirement already satisfied: numpy>=1.14.6 in /usr/local/lib/python3.8/dist-packages (from scikit-learn) (1.21.6)\n",
            "Requirement already satisfied: joblib>=0.11 in /usr/local/lib/python3.8/dist-packages (from scikit-learn) (1.2.0)\n"
          ]
        }
      ]
    },
    {
      "cell_type": "code",
      "execution_count": 2,
      "metadata": {
        "id": "82J7gNXE3T-X"
      },
      "outputs": [],
      "source": [
        "import numpy as np\n",
        "import pandas as pd"
      ]
    },
    {
      "cell_type": "code",
      "source": [
        "from google.colab import files\n",
        "uploaded = files.upload()"
      ],
      "metadata": {
        "colab": {
          "base_uri": "https://localhost:8080/",
          "height": 72
        },
        "id": "6oQG-SOW33cJ",
        "outputId": "ab319459-894f-4868-d522-abd19ea2c927"
      },
      "execution_count": null,
      "outputs": [
        {
          "output_type": "display_data",
          "data": {
            "text/plain": [
              "<IPython.core.display.HTML object>"
            ],
            "text/html": [
              "\n",
              "     <input type=\"file\" id=\"files-319595e0-c966-4316-8a0b-15d7dd0860d7\" name=\"files[]\" multiple disabled\n",
              "        style=\"border:none\" />\n",
              "     <output id=\"result-319595e0-c966-4316-8a0b-15d7dd0860d7\">\n",
              "      Upload widget is only available when the cell has been executed in the\n",
              "      current browser session. Please rerun this cell to enable.\n",
              "      </output>\n",
              "      <script>// Copyright 2017 Google LLC\n",
              "//\n",
              "// Licensed under the Apache License, Version 2.0 (the \"License\");\n",
              "// you may not use this file except in compliance with the License.\n",
              "// You may obtain a copy of the License at\n",
              "//\n",
              "//      http://www.apache.org/licenses/LICENSE-2.0\n",
              "//\n",
              "// Unless required by applicable law or agreed to in writing, software\n",
              "// distributed under the License is distributed on an \"AS IS\" BASIS,\n",
              "// WITHOUT WARRANTIES OR CONDITIONS OF ANY KIND, either express or implied.\n",
              "// See the License for the specific language governing permissions and\n",
              "// limitations under the License.\n",
              "\n",
              "/**\n",
              " * @fileoverview Helpers for google.colab Python module.\n",
              " */\n",
              "(function(scope) {\n",
              "function span(text, styleAttributes = {}) {\n",
              "  const element = document.createElement('span');\n",
              "  element.textContent = text;\n",
              "  for (const key of Object.keys(styleAttributes)) {\n",
              "    element.style[key] = styleAttributes[key];\n",
              "  }\n",
              "  return element;\n",
              "}\n",
              "\n",
              "// Max number of bytes which will be uploaded at a time.\n",
              "const MAX_PAYLOAD_SIZE = 100 * 1024;\n",
              "\n",
              "function _uploadFiles(inputId, outputId) {\n",
              "  const steps = uploadFilesStep(inputId, outputId);\n",
              "  const outputElement = document.getElementById(outputId);\n",
              "  // Cache steps on the outputElement to make it available for the next call\n",
              "  // to uploadFilesContinue from Python.\n",
              "  outputElement.steps = steps;\n",
              "\n",
              "  return _uploadFilesContinue(outputId);\n",
              "}\n",
              "\n",
              "// This is roughly an async generator (not supported in the browser yet),\n",
              "// where there are multiple asynchronous steps and the Python side is going\n",
              "// to poll for completion of each step.\n",
              "// This uses a Promise to block the python side on completion of each step,\n",
              "// then passes the result of the previous step as the input to the next step.\n",
              "function _uploadFilesContinue(outputId) {\n",
              "  const outputElement = document.getElementById(outputId);\n",
              "  const steps = outputElement.steps;\n",
              "\n",
              "  const next = steps.next(outputElement.lastPromiseValue);\n",
              "  return Promise.resolve(next.value.promise).then((value) => {\n",
              "    // Cache the last promise value to make it available to the next\n",
              "    // step of the generator.\n",
              "    outputElement.lastPromiseValue = value;\n",
              "    return next.value.response;\n",
              "  });\n",
              "}\n",
              "\n",
              "/**\n",
              " * Generator function which is called between each async step of the upload\n",
              " * process.\n",
              " * @param {string} inputId Element ID of the input file picker element.\n",
              " * @param {string} outputId Element ID of the output display.\n",
              " * @return {!Iterable<!Object>} Iterable of next steps.\n",
              " */\n",
              "function* uploadFilesStep(inputId, outputId) {\n",
              "  const inputElement = document.getElementById(inputId);\n",
              "  inputElement.disabled = false;\n",
              "\n",
              "  const outputElement = document.getElementById(outputId);\n",
              "  outputElement.innerHTML = '';\n",
              "\n",
              "  const pickedPromise = new Promise((resolve) => {\n",
              "    inputElement.addEventListener('change', (e) => {\n",
              "      resolve(e.target.files);\n",
              "    });\n",
              "  });\n",
              "\n",
              "  const cancel = document.createElement('button');\n",
              "  inputElement.parentElement.appendChild(cancel);\n",
              "  cancel.textContent = 'Cancel upload';\n",
              "  const cancelPromise = new Promise((resolve) => {\n",
              "    cancel.onclick = () => {\n",
              "      resolve(null);\n",
              "    };\n",
              "  });\n",
              "\n",
              "  // Wait for the user to pick the files.\n",
              "  const files = yield {\n",
              "    promise: Promise.race([pickedPromise, cancelPromise]),\n",
              "    response: {\n",
              "      action: 'starting',\n",
              "    }\n",
              "  };\n",
              "\n",
              "  cancel.remove();\n",
              "\n",
              "  // Disable the input element since further picks are not allowed.\n",
              "  inputElement.disabled = true;\n",
              "\n",
              "  if (!files) {\n",
              "    return {\n",
              "      response: {\n",
              "        action: 'complete',\n",
              "      }\n",
              "    };\n",
              "  }\n",
              "\n",
              "  for (const file of files) {\n",
              "    const li = document.createElement('li');\n",
              "    li.append(span(file.name, {fontWeight: 'bold'}));\n",
              "    li.append(span(\n",
              "        `(${file.type || 'n/a'}) - ${file.size} bytes, ` +\n",
              "        `last modified: ${\n",
              "            file.lastModifiedDate ? file.lastModifiedDate.toLocaleDateString() :\n",
              "                                    'n/a'} - `));\n",
              "    const percent = span('0% done');\n",
              "    li.appendChild(percent);\n",
              "\n",
              "    outputElement.appendChild(li);\n",
              "\n",
              "    const fileDataPromise = new Promise((resolve) => {\n",
              "      const reader = new FileReader();\n",
              "      reader.onload = (e) => {\n",
              "        resolve(e.target.result);\n",
              "      };\n",
              "      reader.readAsArrayBuffer(file);\n",
              "    });\n",
              "    // Wait for the data to be ready.\n",
              "    let fileData = yield {\n",
              "      promise: fileDataPromise,\n",
              "      response: {\n",
              "        action: 'continue',\n",
              "      }\n",
              "    };\n",
              "\n",
              "    // Use a chunked sending to avoid message size limits. See b/62115660.\n",
              "    let position = 0;\n",
              "    do {\n",
              "      const length = Math.min(fileData.byteLength - position, MAX_PAYLOAD_SIZE);\n",
              "      const chunk = new Uint8Array(fileData, position, length);\n",
              "      position += length;\n",
              "\n",
              "      const base64 = btoa(String.fromCharCode.apply(null, chunk));\n",
              "      yield {\n",
              "        response: {\n",
              "          action: 'append',\n",
              "          file: file.name,\n",
              "          data: base64,\n",
              "        },\n",
              "      };\n",
              "\n",
              "      let percentDone = fileData.byteLength === 0 ?\n",
              "          100 :\n",
              "          Math.round((position / fileData.byteLength) * 100);\n",
              "      percent.textContent = `${percentDone}% done`;\n",
              "\n",
              "    } while (position < fileData.byteLength);\n",
              "  }\n",
              "\n",
              "  // All done.\n",
              "  yield {\n",
              "    response: {\n",
              "      action: 'complete',\n",
              "    }\n",
              "  };\n",
              "}\n",
              "\n",
              "scope.google = scope.google || {};\n",
              "scope.google.colab = scope.google.colab || {};\n",
              "scope.google.colab._files = {\n",
              "  _uploadFiles,\n",
              "  _uploadFilesContinue,\n",
              "};\n",
              "})(self);\n",
              "</script> "
            ]
          },
          "metadata": {}
        },
        {
          "output_type": "stream",
          "name": "stdout",
          "text": [
            "Saving diabetesdata.csv to diabetesdata.csv\n"
          ]
        }
      ]
    },
    {
      "cell_type": "code",
      "source": [
        "diabetes_dataset = pd.read_csv('/content/diabetesdata.csv')"
      ],
      "metadata": {
        "id": "o87EgCi833ZO"
      },
      "execution_count": 3,
      "outputs": []
    },
    {
      "cell_type": "code",
      "source": [
        "diabetes_dataset.head()"
      ],
      "metadata": {
        "colab": {
          "base_uri": "https://localhost:8080/",
          "height": 206
        },
        "id": "X-hVyp9N7lJi",
        "outputId": "c0d5322c-5fd5-47bb-cb46-ac7afd623f65"
      },
      "execution_count": 4,
      "outputs": [
        {
          "output_type": "execute_result",
          "data": {
            "text/plain": [
              "   Pregnancies  Glucose  BloodPressure  SkinThickness  Insulin   BMI  \\\n",
              "0            6      148             72             35        0  33.6   \n",
              "1            1       85             66             29        0  26.6   \n",
              "2            8      183             64              0        0  23.3   \n",
              "3            1       89             66             23       94  28.1   \n",
              "4            0      137             40             35      168  43.1   \n",
              "\n",
              "   DiabetesPedigreeFunction  Age  Outcome  \n",
              "0                     0.627   50        1  \n",
              "1                     0.351   31        0  \n",
              "2                     0.672   32        1  \n",
              "3                     0.167   21        0  \n",
              "4                     2.288   33        1  "
            ],
            "text/html": [
              "\n",
              "  <div id=\"df-218ff3f3-e0bd-4c83-ac11-83d67a5d01dd\">\n",
              "    <div class=\"colab-df-container\">\n",
              "      <div>\n",
              "<style scoped>\n",
              "    .dataframe tbody tr th:only-of-type {\n",
              "        vertical-align: middle;\n",
              "    }\n",
              "\n",
              "    .dataframe tbody tr th {\n",
              "        vertical-align: top;\n",
              "    }\n",
              "\n",
              "    .dataframe thead th {\n",
              "        text-align: right;\n",
              "    }\n",
              "</style>\n",
              "<table border=\"1\" class=\"dataframe\">\n",
              "  <thead>\n",
              "    <tr style=\"text-align: right;\">\n",
              "      <th></th>\n",
              "      <th>Pregnancies</th>\n",
              "      <th>Glucose</th>\n",
              "      <th>BloodPressure</th>\n",
              "      <th>SkinThickness</th>\n",
              "      <th>Insulin</th>\n",
              "      <th>BMI</th>\n",
              "      <th>DiabetesPedigreeFunction</th>\n",
              "      <th>Age</th>\n",
              "      <th>Outcome</th>\n",
              "    </tr>\n",
              "  </thead>\n",
              "  <tbody>\n",
              "    <tr>\n",
              "      <th>0</th>\n",
              "      <td>6</td>\n",
              "      <td>148</td>\n",
              "      <td>72</td>\n",
              "      <td>35</td>\n",
              "      <td>0</td>\n",
              "      <td>33.6</td>\n",
              "      <td>0.627</td>\n",
              "      <td>50</td>\n",
              "      <td>1</td>\n",
              "    </tr>\n",
              "    <tr>\n",
              "      <th>1</th>\n",
              "      <td>1</td>\n",
              "      <td>85</td>\n",
              "      <td>66</td>\n",
              "      <td>29</td>\n",
              "      <td>0</td>\n",
              "      <td>26.6</td>\n",
              "      <td>0.351</td>\n",
              "      <td>31</td>\n",
              "      <td>0</td>\n",
              "    </tr>\n",
              "    <tr>\n",
              "      <th>2</th>\n",
              "      <td>8</td>\n",
              "      <td>183</td>\n",
              "      <td>64</td>\n",
              "      <td>0</td>\n",
              "      <td>0</td>\n",
              "      <td>23.3</td>\n",
              "      <td>0.672</td>\n",
              "      <td>32</td>\n",
              "      <td>1</td>\n",
              "    </tr>\n",
              "    <tr>\n",
              "      <th>3</th>\n",
              "      <td>1</td>\n",
              "      <td>89</td>\n",
              "      <td>66</td>\n",
              "      <td>23</td>\n",
              "      <td>94</td>\n",
              "      <td>28.1</td>\n",
              "      <td>0.167</td>\n",
              "      <td>21</td>\n",
              "      <td>0</td>\n",
              "    </tr>\n",
              "    <tr>\n",
              "      <th>4</th>\n",
              "      <td>0</td>\n",
              "      <td>137</td>\n",
              "      <td>40</td>\n",
              "      <td>35</td>\n",
              "      <td>168</td>\n",
              "      <td>43.1</td>\n",
              "      <td>2.288</td>\n",
              "      <td>33</td>\n",
              "      <td>1</td>\n",
              "    </tr>\n",
              "  </tbody>\n",
              "</table>\n",
              "</div>\n",
              "      <button class=\"colab-df-convert\" onclick=\"convertToInteractive('df-218ff3f3-e0bd-4c83-ac11-83d67a5d01dd')\"\n",
              "              title=\"Convert this dataframe to an interactive table.\"\n",
              "              style=\"display:none;\">\n",
              "        \n",
              "  <svg xmlns=\"http://www.w3.org/2000/svg\" height=\"24px\"viewBox=\"0 0 24 24\"\n",
              "       width=\"24px\">\n",
              "    <path d=\"M0 0h24v24H0V0z\" fill=\"none\"/>\n",
              "    <path d=\"M18.56 5.44l.94 2.06.94-2.06 2.06-.94-2.06-.94-.94-2.06-.94 2.06-2.06.94zm-11 1L8.5 8.5l.94-2.06 2.06-.94-2.06-.94L8.5 2.5l-.94 2.06-2.06.94zm10 10l.94 2.06.94-2.06 2.06-.94-2.06-.94-.94-2.06-.94 2.06-2.06.94z\"/><path d=\"M17.41 7.96l-1.37-1.37c-.4-.4-.92-.59-1.43-.59-.52 0-1.04.2-1.43.59L10.3 9.45l-7.72 7.72c-.78.78-.78 2.05 0 2.83L4 21.41c.39.39.9.59 1.41.59.51 0 1.02-.2 1.41-.59l7.78-7.78 2.81-2.81c.8-.78.8-2.07 0-2.86zM5.41 20L4 18.59l7.72-7.72 1.47 1.35L5.41 20z\"/>\n",
              "  </svg>\n",
              "      </button>\n",
              "      \n",
              "  <style>\n",
              "    .colab-df-container {\n",
              "      display:flex;\n",
              "      flex-wrap:wrap;\n",
              "      gap: 12px;\n",
              "    }\n",
              "\n",
              "    .colab-df-convert {\n",
              "      background-color: #E8F0FE;\n",
              "      border: none;\n",
              "      border-radius: 50%;\n",
              "      cursor: pointer;\n",
              "      display: none;\n",
              "      fill: #1967D2;\n",
              "      height: 32px;\n",
              "      padding: 0 0 0 0;\n",
              "      width: 32px;\n",
              "    }\n",
              "\n",
              "    .colab-df-convert:hover {\n",
              "      background-color: #E2EBFA;\n",
              "      box-shadow: 0px 1px 2px rgba(60, 64, 67, 0.3), 0px 1px 3px 1px rgba(60, 64, 67, 0.15);\n",
              "      fill: #174EA6;\n",
              "    }\n",
              "\n",
              "    [theme=dark] .colab-df-convert {\n",
              "      background-color: #3B4455;\n",
              "      fill: #D2E3FC;\n",
              "    }\n",
              "\n",
              "    [theme=dark] .colab-df-convert:hover {\n",
              "      background-color: #434B5C;\n",
              "      box-shadow: 0px 1px 3px 1px rgba(0, 0, 0, 0.15);\n",
              "      filter: drop-shadow(0px 1px 2px rgba(0, 0, 0, 0.3));\n",
              "      fill: #FFFFFF;\n",
              "    }\n",
              "  </style>\n",
              "\n",
              "      <script>\n",
              "        const buttonEl =\n",
              "          document.querySelector('#df-218ff3f3-e0bd-4c83-ac11-83d67a5d01dd button.colab-df-convert');\n",
              "        buttonEl.style.display =\n",
              "          google.colab.kernel.accessAllowed ? 'block' : 'none';\n",
              "\n",
              "        async function convertToInteractive(key) {\n",
              "          const element = document.querySelector('#df-218ff3f3-e0bd-4c83-ac11-83d67a5d01dd');\n",
              "          const dataTable =\n",
              "            await google.colab.kernel.invokeFunction('convertToInteractive',\n",
              "                                                     [key], {});\n",
              "          if (!dataTable) return;\n",
              "\n",
              "          const docLinkHtml = 'Like what you see? Visit the ' +\n",
              "            '<a target=\"_blank\" href=https://colab.research.google.com/notebooks/data_table.ipynb>data table notebook</a>'\n",
              "            + ' to learn more about interactive tables.';\n",
              "          element.innerHTML = '';\n",
              "          dataTable['output_type'] = 'display_data';\n",
              "          await google.colab.output.renderOutput(dataTable, element);\n",
              "          const docLink = document.createElement('div');\n",
              "          docLink.innerHTML = docLinkHtml;\n",
              "          element.appendChild(docLink);\n",
              "        }\n",
              "      </script>\n",
              "    </div>\n",
              "  </div>\n",
              "  "
            ]
          },
          "metadata": {},
          "execution_count": 4
        }
      ]
    },
    {
      "cell_type": "code",
      "source": [
        "print(diabetes_dataset.isna().sum())"
      ],
      "metadata": {
        "id": "W323e_IQ76OY",
        "colab": {
          "base_uri": "https://localhost:8080/"
        },
        "outputId": "6f5d6757-8521-4225-9e0b-ee798218b3ef"
      },
      "execution_count": 5,
      "outputs": [
        {
          "output_type": "stream",
          "name": "stdout",
          "text": [
            "Pregnancies                 0\n",
            "Glucose                     0\n",
            "BloodPressure               0\n",
            "SkinThickness               0\n",
            "Insulin                     0\n",
            "BMI                         0\n",
            "DiabetesPedigreeFunction    0\n",
            "Age                         0\n",
            "Outcome                     0\n",
            "dtype: int64\n"
          ]
        }
      ]
    },
    {
      "cell_type": "code",
      "source": [
        "print(diabetes_dataset.dtypes)"
      ],
      "metadata": {
        "id": "fmwGBzea33We",
        "colab": {
          "base_uri": "https://localhost:8080/"
        },
        "outputId": "c1fc2398-c704-4a2d-c7e3-73dbf4e0b2e3"
      },
      "execution_count": 6,
      "outputs": [
        {
          "output_type": "stream",
          "name": "stdout",
          "text": [
            "Pregnancies                   int64\n",
            "Glucose                       int64\n",
            "BloodPressure                 int64\n",
            "SkinThickness                 int64\n",
            "Insulin                       int64\n",
            "BMI                         float64\n",
            "DiabetesPedigreeFunction    float64\n",
            "Age                           int64\n",
            "Outcome                       int64\n",
            "dtype: object\n"
          ]
        }
      ]
    },
    {
      "cell_type": "code",
      "source": [
        "print(np.unique(diabetes_dataset[\"Outcome\"]))"
      ],
      "metadata": {
        "colab": {
          "base_uri": "https://localhost:8080/"
        },
        "id": "qsu54Xn833VF",
        "outputId": "22e89d9e-cc2c-4348-961a-68261c935f92"
      },
      "execution_count": 7,
      "outputs": [
        {
          "output_type": "stream",
          "name": "stdout",
          "text": [
            "[0 1]\n"
          ]
        }
      ]
    },
    {
      "cell_type": "code",
      "source": [
        "diabetes_dataset.shape"
      ],
      "metadata": {
        "colab": {
          "base_uri": "https://localhost:8080/"
        },
        "id": "sjdSeS239UpA",
        "outputId": "dfd876a0-a50b-4d2f-bca0-d0e3b0a5f142"
      },
      "execution_count": 8,
      "outputs": [
        {
          "output_type": "execute_result",
          "data": {
            "text/plain": [
              "(768, 9)"
            ]
          },
          "metadata": {},
          "execution_count": 8
        }
      ]
    },
    {
      "cell_type": "code",
      "source": [
        "diabetes_dataset['Outcome'].value_counts()"
      ],
      "metadata": {
        "colab": {
          "base_uri": "https://localhost:8080/"
        },
        "id": "dVLhHO_G33RO",
        "outputId": "46b1f27d-c7ec-429b-8920-6b1ab84a8a49"
      },
      "execution_count": 9,
      "outputs": [
        {
          "output_type": "execute_result",
          "data": {
            "text/plain": [
              "0    500\n",
              "1    268\n",
              "Name: Outcome, dtype: int64"
            ]
          },
          "metadata": {},
          "execution_count": 9
        }
      ]
    },
    {
      "cell_type": "code",
      "source": [
        "X = diabetes_dataset.drop(columns = 'Outcome', axis=1)\n",
        "Y = diabetes_dataset['Outcome']"
      ],
      "metadata": {
        "id": "XhmLEatM33NX"
      },
      "execution_count": 10,
      "outputs": []
    },
    {
      "cell_type": "code",
      "metadata": {
        "colab": {
          "base_uri": "https://localhost:8080/",
          "height": 187
        },
        "id": "I6MWR0k_qSCK",
        "outputId": "1a55bc5d-06d9-4d05-acdb-c2f3c4b8993d"
      },
      "source": [
        "diabetes_dataset.groupby('Outcome').mean()"
      ],
      "execution_count": 11,
      "outputs": [
        {
          "output_type": "execute_result",
          "data": {
            "text/plain": [
              "         Pregnancies     Glucose  BloodPressure  SkinThickness     Insulin  \\\n",
              "Outcome                                                                      \n",
              "0           3.298000  109.980000      68.184000      19.664000   68.792000   \n",
              "1           4.865672  141.257463      70.824627      22.164179  100.335821   \n",
              "\n",
              "               BMI  DiabetesPedigreeFunction        Age  \n",
              "Outcome                                                  \n",
              "0        30.304200                  0.429734  31.190000  \n",
              "1        35.142537                  0.550500  37.067164  "
            ],
            "text/html": [
              "\n",
              "  <div id=\"df-2de7a05f-8a04-47e3-be23-306930e89b96\">\n",
              "    <div class=\"colab-df-container\">\n",
              "      <div>\n",
              "<style scoped>\n",
              "    .dataframe tbody tr th:only-of-type {\n",
              "        vertical-align: middle;\n",
              "    }\n",
              "\n",
              "    .dataframe tbody tr th {\n",
              "        vertical-align: top;\n",
              "    }\n",
              "\n",
              "    .dataframe thead th {\n",
              "        text-align: right;\n",
              "    }\n",
              "</style>\n",
              "<table border=\"1\" class=\"dataframe\">\n",
              "  <thead>\n",
              "    <tr style=\"text-align: right;\">\n",
              "      <th></th>\n",
              "      <th>Pregnancies</th>\n",
              "      <th>Glucose</th>\n",
              "      <th>BloodPressure</th>\n",
              "      <th>SkinThickness</th>\n",
              "      <th>Insulin</th>\n",
              "      <th>BMI</th>\n",
              "      <th>DiabetesPedigreeFunction</th>\n",
              "      <th>Age</th>\n",
              "    </tr>\n",
              "    <tr>\n",
              "      <th>Outcome</th>\n",
              "      <th></th>\n",
              "      <th></th>\n",
              "      <th></th>\n",
              "      <th></th>\n",
              "      <th></th>\n",
              "      <th></th>\n",
              "      <th></th>\n",
              "      <th></th>\n",
              "    </tr>\n",
              "  </thead>\n",
              "  <tbody>\n",
              "    <tr>\n",
              "      <th>0</th>\n",
              "      <td>3.298000</td>\n",
              "      <td>109.980000</td>\n",
              "      <td>68.184000</td>\n",
              "      <td>19.664000</td>\n",
              "      <td>68.792000</td>\n",
              "      <td>30.304200</td>\n",
              "      <td>0.429734</td>\n",
              "      <td>31.190000</td>\n",
              "    </tr>\n",
              "    <tr>\n",
              "      <th>1</th>\n",
              "      <td>4.865672</td>\n",
              "      <td>141.257463</td>\n",
              "      <td>70.824627</td>\n",
              "      <td>22.164179</td>\n",
              "      <td>100.335821</td>\n",
              "      <td>35.142537</td>\n",
              "      <td>0.550500</td>\n",
              "      <td>37.067164</td>\n",
              "    </tr>\n",
              "  </tbody>\n",
              "</table>\n",
              "</div>\n",
              "      <button class=\"colab-df-convert\" onclick=\"convertToInteractive('df-2de7a05f-8a04-47e3-be23-306930e89b96')\"\n",
              "              title=\"Convert this dataframe to an interactive table.\"\n",
              "              style=\"display:none;\">\n",
              "        \n",
              "  <svg xmlns=\"http://www.w3.org/2000/svg\" height=\"24px\"viewBox=\"0 0 24 24\"\n",
              "       width=\"24px\">\n",
              "    <path d=\"M0 0h24v24H0V0z\" fill=\"none\"/>\n",
              "    <path d=\"M18.56 5.44l.94 2.06.94-2.06 2.06-.94-2.06-.94-.94-2.06-.94 2.06-2.06.94zm-11 1L8.5 8.5l.94-2.06 2.06-.94-2.06-.94L8.5 2.5l-.94 2.06-2.06.94zm10 10l.94 2.06.94-2.06 2.06-.94-2.06-.94-.94-2.06-.94 2.06-2.06.94z\"/><path d=\"M17.41 7.96l-1.37-1.37c-.4-.4-.92-.59-1.43-.59-.52 0-1.04.2-1.43.59L10.3 9.45l-7.72 7.72c-.78.78-.78 2.05 0 2.83L4 21.41c.39.39.9.59 1.41.59.51 0 1.02-.2 1.41-.59l7.78-7.78 2.81-2.81c.8-.78.8-2.07 0-2.86zM5.41 20L4 18.59l7.72-7.72 1.47 1.35L5.41 20z\"/>\n",
              "  </svg>\n",
              "      </button>\n",
              "      \n",
              "  <style>\n",
              "    .colab-df-container {\n",
              "      display:flex;\n",
              "      flex-wrap:wrap;\n",
              "      gap: 12px;\n",
              "    }\n",
              "\n",
              "    .colab-df-convert {\n",
              "      background-color: #E8F0FE;\n",
              "      border: none;\n",
              "      border-radius: 50%;\n",
              "      cursor: pointer;\n",
              "      display: none;\n",
              "      fill: #1967D2;\n",
              "      height: 32px;\n",
              "      padding: 0 0 0 0;\n",
              "      width: 32px;\n",
              "    }\n",
              "\n",
              "    .colab-df-convert:hover {\n",
              "      background-color: #E2EBFA;\n",
              "      box-shadow: 0px 1px 2px rgba(60, 64, 67, 0.3), 0px 1px 3px 1px rgba(60, 64, 67, 0.15);\n",
              "      fill: #174EA6;\n",
              "    }\n",
              "\n",
              "    [theme=dark] .colab-df-convert {\n",
              "      background-color: #3B4455;\n",
              "      fill: #D2E3FC;\n",
              "    }\n",
              "\n",
              "    [theme=dark] .colab-df-convert:hover {\n",
              "      background-color: #434B5C;\n",
              "      box-shadow: 0px 1px 3px 1px rgba(0, 0, 0, 0.15);\n",
              "      filter: drop-shadow(0px 1px 2px rgba(0, 0, 0, 0.3));\n",
              "      fill: #FFFFFF;\n",
              "    }\n",
              "  </style>\n",
              "\n",
              "      <script>\n",
              "        const buttonEl =\n",
              "          document.querySelector('#df-2de7a05f-8a04-47e3-be23-306930e89b96 button.colab-df-convert');\n",
              "        buttonEl.style.display =\n",
              "          google.colab.kernel.accessAllowed ? 'block' : 'none';\n",
              "\n",
              "        async function convertToInteractive(key) {\n",
              "          const element = document.querySelector('#df-2de7a05f-8a04-47e3-be23-306930e89b96');\n",
              "          const dataTable =\n",
              "            await google.colab.kernel.invokeFunction('convertToInteractive',\n",
              "                                                     [key], {});\n",
              "          if (!dataTable) return;\n",
              "\n",
              "          const docLinkHtml = 'Like what you see? Visit the ' +\n",
              "            '<a target=\"_blank\" href=https://colab.research.google.com/notebooks/data_table.ipynb>data table notebook</a>'\n",
              "            + ' to learn more about interactive tables.';\n",
              "          element.innerHTML = '';\n",
              "          dataTable['output_type'] = 'display_data';\n",
              "          await google.colab.output.renderOutput(dataTable, element);\n",
              "          const docLink = document.createElement('div');\n",
              "          docLink.innerHTML = docLinkHtml;\n",
              "          element.appendChild(docLink);\n",
              "        }\n",
              "      </script>\n",
              "    </div>\n",
              "  </div>\n",
              "  "
            ]
          },
          "metadata": {},
          "execution_count": 11
        }
      ]
    },
    {
      "cell_type": "code",
      "source": [
        "diabetes_dataset.describe()"
      ],
      "metadata": {
        "id": "U8WseXsw33So",
        "colab": {
          "base_uri": "https://localhost:8080/",
          "height": 364
        },
        "outputId": "614ba1fd-7edd-427d-f524-2576b36c5f0e"
      },
      "execution_count": 12,
      "outputs": [
        {
          "output_type": "execute_result",
          "data": {
            "text/plain": [
              "       Pregnancies     Glucose  BloodPressure  SkinThickness     Insulin  \\\n",
              "count   768.000000  768.000000     768.000000     768.000000  768.000000   \n",
              "mean      3.845052  120.894531      69.105469      20.536458   79.799479   \n",
              "std       3.369578   31.972618      19.355807      15.952218  115.244002   \n",
              "min       0.000000    0.000000       0.000000       0.000000    0.000000   \n",
              "25%       1.000000   99.000000      62.000000       0.000000    0.000000   \n",
              "50%       3.000000  117.000000      72.000000      23.000000   30.500000   \n",
              "75%       6.000000  140.250000      80.000000      32.000000  127.250000   \n",
              "max      17.000000  199.000000     122.000000      99.000000  846.000000   \n",
              "\n",
              "              BMI  DiabetesPedigreeFunction         Age     Outcome  \n",
              "count  768.000000                768.000000  768.000000  768.000000  \n",
              "mean    31.992578                  0.471876   33.240885    0.348958  \n",
              "std      7.884160                  0.331329   11.760232    0.476951  \n",
              "min      0.000000                  0.078000   21.000000    0.000000  \n",
              "25%     27.300000                  0.243750   24.000000    0.000000  \n",
              "50%     32.000000                  0.372500   29.000000    0.000000  \n",
              "75%     36.600000                  0.626250   41.000000    1.000000  \n",
              "max     67.100000                  2.420000   81.000000    1.000000  "
            ],
            "text/html": [
              "\n",
              "  <div id=\"df-7386bf54-841d-4df0-a481-f234db4d44fa\">\n",
              "    <div class=\"colab-df-container\">\n",
              "      <div>\n",
              "<style scoped>\n",
              "    .dataframe tbody tr th:only-of-type {\n",
              "        vertical-align: middle;\n",
              "    }\n",
              "\n",
              "    .dataframe tbody tr th {\n",
              "        vertical-align: top;\n",
              "    }\n",
              "\n",
              "    .dataframe thead th {\n",
              "        text-align: right;\n",
              "    }\n",
              "</style>\n",
              "<table border=\"1\" class=\"dataframe\">\n",
              "  <thead>\n",
              "    <tr style=\"text-align: right;\">\n",
              "      <th></th>\n",
              "      <th>Pregnancies</th>\n",
              "      <th>Glucose</th>\n",
              "      <th>BloodPressure</th>\n",
              "      <th>SkinThickness</th>\n",
              "      <th>Insulin</th>\n",
              "      <th>BMI</th>\n",
              "      <th>DiabetesPedigreeFunction</th>\n",
              "      <th>Age</th>\n",
              "      <th>Outcome</th>\n",
              "    </tr>\n",
              "  </thead>\n",
              "  <tbody>\n",
              "    <tr>\n",
              "      <th>count</th>\n",
              "      <td>768.000000</td>\n",
              "      <td>768.000000</td>\n",
              "      <td>768.000000</td>\n",
              "      <td>768.000000</td>\n",
              "      <td>768.000000</td>\n",
              "      <td>768.000000</td>\n",
              "      <td>768.000000</td>\n",
              "      <td>768.000000</td>\n",
              "      <td>768.000000</td>\n",
              "    </tr>\n",
              "    <tr>\n",
              "      <th>mean</th>\n",
              "      <td>3.845052</td>\n",
              "      <td>120.894531</td>\n",
              "      <td>69.105469</td>\n",
              "      <td>20.536458</td>\n",
              "      <td>79.799479</td>\n",
              "      <td>31.992578</td>\n",
              "      <td>0.471876</td>\n",
              "      <td>33.240885</td>\n",
              "      <td>0.348958</td>\n",
              "    </tr>\n",
              "    <tr>\n",
              "      <th>std</th>\n",
              "      <td>3.369578</td>\n",
              "      <td>31.972618</td>\n",
              "      <td>19.355807</td>\n",
              "      <td>15.952218</td>\n",
              "      <td>115.244002</td>\n",
              "      <td>7.884160</td>\n",
              "      <td>0.331329</td>\n",
              "      <td>11.760232</td>\n",
              "      <td>0.476951</td>\n",
              "    </tr>\n",
              "    <tr>\n",
              "      <th>min</th>\n",
              "      <td>0.000000</td>\n",
              "      <td>0.000000</td>\n",
              "      <td>0.000000</td>\n",
              "      <td>0.000000</td>\n",
              "      <td>0.000000</td>\n",
              "      <td>0.000000</td>\n",
              "      <td>0.078000</td>\n",
              "      <td>21.000000</td>\n",
              "      <td>0.000000</td>\n",
              "    </tr>\n",
              "    <tr>\n",
              "      <th>25%</th>\n",
              "      <td>1.000000</td>\n",
              "      <td>99.000000</td>\n",
              "      <td>62.000000</td>\n",
              "      <td>0.000000</td>\n",
              "      <td>0.000000</td>\n",
              "      <td>27.300000</td>\n",
              "      <td>0.243750</td>\n",
              "      <td>24.000000</td>\n",
              "      <td>0.000000</td>\n",
              "    </tr>\n",
              "    <tr>\n",
              "      <th>50%</th>\n",
              "      <td>3.000000</td>\n",
              "      <td>117.000000</td>\n",
              "      <td>72.000000</td>\n",
              "      <td>23.000000</td>\n",
              "      <td>30.500000</td>\n",
              "      <td>32.000000</td>\n",
              "      <td>0.372500</td>\n",
              "      <td>29.000000</td>\n",
              "      <td>0.000000</td>\n",
              "    </tr>\n",
              "    <tr>\n",
              "      <th>75%</th>\n",
              "      <td>6.000000</td>\n",
              "      <td>140.250000</td>\n",
              "      <td>80.000000</td>\n",
              "      <td>32.000000</td>\n",
              "      <td>127.250000</td>\n",
              "      <td>36.600000</td>\n",
              "      <td>0.626250</td>\n",
              "      <td>41.000000</td>\n",
              "      <td>1.000000</td>\n",
              "    </tr>\n",
              "    <tr>\n",
              "      <th>max</th>\n",
              "      <td>17.000000</td>\n",
              "      <td>199.000000</td>\n",
              "      <td>122.000000</td>\n",
              "      <td>99.000000</td>\n",
              "      <td>846.000000</td>\n",
              "      <td>67.100000</td>\n",
              "      <td>2.420000</td>\n",
              "      <td>81.000000</td>\n",
              "      <td>1.000000</td>\n",
              "    </tr>\n",
              "  </tbody>\n",
              "</table>\n",
              "</div>\n",
              "      <button class=\"colab-df-convert\" onclick=\"convertToInteractive('df-7386bf54-841d-4df0-a481-f234db4d44fa')\"\n",
              "              title=\"Convert this dataframe to an interactive table.\"\n",
              "              style=\"display:none;\">\n",
              "        \n",
              "  <svg xmlns=\"http://www.w3.org/2000/svg\" height=\"24px\"viewBox=\"0 0 24 24\"\n",
              "       width=\"24px\">\n",
              "    <path d=\"M0 0h24v24H0V0z\" fill=\"none\"/>\n",
              "    <path d=\"M18.56 5.44l.94 2.06.94-2.06 2.06-.94-2.06-.94-.94-2.06-.94 2.06-2.06.94zm-11 1L8.5 8.5l.94-2.06 2.06-.94-2.06-.94L8.5 2.5l-.94 2.06-2.06.94zm10 10l.94 2.06.94-2.06 2.06-.94-2.06-.94-.94-2.06-.94 2.06-2.06.94z\"/><path d=\"M17.41 7.96l-1.37-1.37c-.4-.4-.92-.59-1.43-.59-.52 0-1.04.2-1.43.59L10.3 9.45l-7.72 7.72c-.78.78-.78 2.05 0 2.83L4 21.41c.39.39.9.59 1.41.59.51 0 1.02-.2 1.41-.59l7.78-7.78 2.81-2.81c.8-.78.8-2.07 0-2.86zM5.41 20L4 18.59l7.72-7.72 1.47 1.35L5.41 20z\"/>\n",
              "  </svg>\n",
              "      </button>\n",
              "      \n",
              "  <style>\n",
              "    .colab-df-container {\n",
              "      display:flex;\n",
              "      flex-wrap:wrap;\n",
              "      gap: 12px;\n",
              "    }\n",
              "\n",
              "    .colab-df-convert {\n",
              "      background-color: #E8F0FE;\n",
              "      border: none;\n",
              "      border-radius: 50%;\n",
              "      cursor: pointer;\n",
              "      display: none;\n",
              "      fill: #1967D2;\n",
              "      height: 32px;\n",
              "      padding: 0 0 0 0;\n",
              "      width: 32px;\n",
              "    }\n",
              "\n",
              "    .colab-df-convert:hover {\n",
              "      background-color: #E2EBFA;\n",
              "      box-shadow: 0px 1px 2px rgba(60, 64, 67, 0.3), 0px 1px 3px 1px rgba(60, 64, 67, 0.15);\n",
              "      fill: #174EA6;\n",
              "    }\n",
              "\n",
              "    [theme=dark] .colab-df-convert {\n",
              "      background-color: #3B4455;\n",
              "      fill: #D2E3FC;\n",
              "    }\n",
              "\n",
              "    [theme=dark] .colab-df-convert:hover {\n",
              "      background-color: #434B5C;\n",
              "      box-shadow: 0px 1px 3px 1px rgba(0, 0, 0, 0.15);\n",
              "      filter: drop-shadow(0px 1px 2px rgba(0, 0, 0, 0.3));\n",
              "      fill: #FFFFFF;\n",
              "    }\n",
              "  </style>\n",
              "\n",
              "      <script>\n",
              "        const buttonEl =\n",
              "          document.querySelector('#df-7386bf54-841d-4df0-a481-f234db4d44fa button.colab-df-convert');\n",
              "        buttonEl.style.display =\n",
              "          google.colab.kernel.accessAllowed ? 'block' : 'none';\n",
              "\n",
              "        async function convertToInteractive(key) {\n",
              "          const element = document.querySelector('#df-7386bf54-841d-4df0-a481-f234db4d44fa');\n",
              "          const dataTable =\n",
              "            await google.colab.kernel.invokeFunction('convertToInteractive',\n",
              "                                                     [key], {});\n",
              "          if (!dataTable) return;\n",
              "\n",
              "          const docLinkHtml = 'Like what you see? Visit the ' +\n",
              "            '<a target=\"_blank\" href=https://colab.research.google.com/notebooks/data_table.ipynb>data table notebook</a>'\n",
              "            + ' to learn more about interactive tables.';\n",
              "          element.innerHTML = '';\n",
              "          dataTable['output_type'] = 'display_data';\n",
              "          await google.colab.output.renderOutput(dataTable, element);\n",
              "          const docLink = document.createElement('div');\n",
              "          docLink.innerHTML = docLinkHtml;\n",
              "          element.appendChild(docLink);\n",
              "        }\n",
              "      </script>\n",
              "    </div>\n",
              "  </div>\n",
              "  "
            ]
          },
          "metadata": {},
          "execution_count": 12
        }
      ]
    },
    {
      "cell_type": "code",
      "source": [
        "print(X)\n",
        "print(Y)"
      ],
      "metadata": {
        "id": "9M7B4D4A33LB",
        "colab": {
          "base_uri": "https://localhost:8080/"
        },
        "outputId": "59d3ada2-7ad5-46e5-9cfd-048ada1f343c"
      },
      "execution_count": 13,
      "outputs": [
        {
          "output_type": "stream",
          "name": "stdout",
          "text": [
            "     Pregnancies  Glucose  BloodPressure  SkinThickness  Insulin   BMI  \\\n",
            "0              6      148             72             35        0  33.6   \n",
            "1              1       85             66             29        0  26.6   \n",
            "2              8      183             64              0        0  23.3   \n",
            "3              1       89             66             23       94  28.1   \n",
            "4              0      137             40             35      168  43.1   \n",
            "..           ...      ...            ...            ...      ...   ...   \n",
            "763           10      101             76             48      180  32.9   \n",
            "764            2      122             70             27        0  36.8   \n",
            "765            5      121             72             23      112  26.2   \n",
            "766            1      126             60              0        0  30.1   \n",
            "767            1       93             70             31        0  30.4   \n",
            "\n",
            "     DiabetesPedigreeFunction  Age  \n",
            "0                       0.627   50  \n",
            "1                       0.351   31  \n",
            "2                       0.672   32  \n",
            "3                       0.167   21  \n",
            "4                       2.288   33  \n",
            "..                        ...  ...  \n",
            "763                     0.171   63  \n",
            "764                     0.340   27  \n",
            "765                     0.245   30  \n",
            "766                     0.349   47  \n",
            "767                     0.315   23  \n",
            "\n",
            "[768 rows x 8 columns]\n",
            "0      1\n",
            "1      0\n",
            "2      1\n",
            "3      0\n",
            "4      1\n",
            "      ..\n",
            "763    0\n",
            "764    0\n",
            "765    0\n",
            "766    1\n",
            "767    0\n",
            "Name: Outcome, Length: 768, dtype: int64\n"
          ]
        }
      ]
    },
    {
      "cell_type": "code",
      "source": [
        "from sklearn.model_selection import train_test_split\n",
        "x_train,x_test,y_train,y_test = train_test_split(X,Y, test_size=0.12, random_state=0)\n",
        "\n",
        "print(\"Training data\")\n",
        "print(x_train,y_train)\n",
        "print(\"Testing data\")\n",
        "print(x_test,y_test)"
      ],
      "metadata": {
        "id": "JMNx1Sjv33Jo",
        "colab": {
          "base_uri": "https://localhost:8080/"
        },
        "outputId": "134547fc-e3b8-44e5-f262-d451e230c75b"
      },
      "execution_count": 14,
      "outputs": [
        {
          "output_type": "stream",
          "name": "stdout",
          "text": [
            "Training data\n",
            "     Pregnancies  Glucose  BloodPressure  SkinThickness  Insulin   BMI  \\\n",
            "50             1      103             80             11       82  19.4   \n",
            "548            1      164             82             43       67  32.8   \n",
            "572            3      111             58             31       44  29.5   \n",
            "638            7       97             76             32       91  40.9   \n",
            "608            0      152             82             39      272  41.5   \n",
            "..           ...      ...            ...            ...      ...   ...   \n",
            "763           10      101             76             48      180  32.9   \n",
            "192            7      159             66              0        0  30.4   \n",
            "629            4       94             65             22        0  24.7   \n",
            "559           11       85             74              0        0  30.1   \n",
            "684            5      136             82              0        0   0.0   \n",
            "\n",
            "     DiabetesPedigreeFunction  Age  \n",
            "50                      0.491   22  \n",
            "548                     0.341   50  \n",
            "572                     0.430   22  \n",
            "638                     0.871   32  \n",
            "608                     0.270   27  \n",
            "..                        ...  ...  \n",
            "763                     0.171   63  \n",
            "192                     0.383   36  \n",
            "629                     0.148   21  \n",
            "559                     0.300   35  \n",
            "684                     0.640   69  \n",
            "\n",
            "[675 rows x 8 columns] 50     0\n",
            "548    0\n",
            "572    0\n",
            "638    1\n",
            "608    0\n",
            "      ..\n",
            "763    0\n",
            "192    1\n",
            "629    0\n",
            "559    0\n",
            "684    0\n",
            "Name: Outcome, Length: 675, dtype: int64\n",
            "Testing data\n",
            "     Pregnancies  Glucose  BloodPressure  SkinThickness  Insulin   BMI  \\\n",
            "661            1      199             76             43        0  42.9   \n",
            "122            2      107             74             30      100  33.6   \n",
            "113            4       76             62              0        0  34.0   \n",
            "14             5      166             72             19      175  25.8   \n",
            "529            0      111             65              0        0  24.6   \n",
            "..           ...      ...            ...            ...      ...   ...   \n",
            "236            7      181             84             21      192  35.9   \n",
            "623            0       94             70             27      115  43.5   \n",
            "602            1      124             74             36        0  27.8   \n",
            "251            2      129             84              0        0  28.0   \n",
            "313            3      113             50             10       85  29.5   \n",
            "\n",
            "     DiabetesPedigreeFunction  Age  \n",
            "661                     1.394   22  \n",
            "122                     0.404   23  \n",
            "113                     0.391   25  \n",
            "14                      0.587   51  \n",
            "529                     0.660   31  \n",
            "..                        ...  ...  \n",
            "236                     0.586   51  \n",
            "623                     0.347   21  \n",
            "602                     0.100   30  \n",
            "251                     0.284   27  \n",
            "313                     0.626   25  \n",
            "\n",
            "[93 rows x 8 columns] 661    1\n",
            "122    0\n",
            "113    0\n",
            "14     1\n",
            "529    0\n",
            "      ..\n",
            "236    1\n",
            "623    0\n",
            "602    0\n",
            "251    0\n",
            "313    0\n",
            "Name: Outcome, Length: 93, dtype: int64\n"
          ]
        }
      ]
    },
    {
      "cell_type": "code",
      "source": [
        "print(\"complete data\")\n",
        "print(np.shape(X))\n",
        "print(\"Training data\")\n",
        "print(np.shape(x_train))\n",
        "print(\"Testing data\")\n",
        "print(np.shape(x_test))"
      ],
      "metadata": {
        "colab": {
          "base_uri": "https://localhost:8080/"
        },
        "id": "5VFYGROG33Hj",
        "outputId": "460db083-1a3b-4ad9-9a20-8b0ba40c26fc"
      },
      "execution_count": 15,
      "outputs": [
        {
          "output_type": "stream",
          "name": "stdout",
          "text": [
            "complete data\n",
            "(768, 8)\n",
            "Training data\n",
            "(675, 8)\n",
            "Testing data\n",
            "(93, 8)\n"
          ]
        }
      ]
    },
    {
      "cell_type": "code",
      "source": [
        "from sklearn.preprocessing import StandardScaler\n",
        "sc=StandardScaler()\n",
        "sc.fit(x_train)\n",
        "x_train_sc=sc.transform(x_train)\n",
        "x_test_sc=sc.transform(x_test)\n",
        "print(x_train_sc)\n",
        "print(x_train_sc)"
      ],
      "metadata": {
        "colab": {
          "base_uri": "https://localhost:8080/"
        },
        "id": "RvitmoXp33Ft",
        "outputId": "7305217c-fced-47ae-fa27-a3845e83f80c"
      },
      "execution_count": 16,
      "outputs": [
        {
          "output_type": "stream",
          "name": "stdout",
          "text": [
            "[[-0.84116256 -0.5630776   0.55614119 ... -1.60876461  0.07044841\n",
            "  -0.95699983]\n",
            " [-0.84116256  1.37934198  0.65945626 ...  0.09377621 -0.38378971\n",
            "   1.38834467]\n",
            " [-0.25217425 -0.30833405 -0.58032457 ... -0.32550623 -0.1142751\n",
            "  -0.95699983]\n",
            " ...\n",
            " [ 0.0423199  -0.84966409 -0.21872183 ... -0.9353716  -0.96824276\n",
            "  -1.04076214]\n",
            " [ 2.10377897 -1.13625058  0.24619598 ... -0.24927306 -0.50794813\n",
            "   0.13191012]\n",
            " [ 0.33681405  0.48773955  0.65945626 ... -4.07363714  0.52165827\n",
            "   2.97982845]]\n",
            "[[-0.84116256 -0.5630776   0.55614119 ... -1.60876461  0.07044841\n",
            "  -0.95699983]\n",
            " [-0.84116256  1.37934198  0.65945626 ...  0.09377621 -0.38378971\n",
            "   1.38834467]\n",
            " [-0.25217425 -0.30833405 -0.58032457 ... -0.32550623 -0.1142751\n",
            "  -0.95699983]\n",
            " ...\n",
            " [ 0.0423199  -0.84966409 -0.21872183 ... -0.9353716  -0.96824276\n",
            "  -1.04076214]\n",
            " [ 2.10377897 -1.13625058  0.24619598 ... -0.24927306 -0.50794813\n",
            "   0.13191012]\n",
            " [ 0.33681405  0.48773955  0.65945626 ... -4.07363714  0.52165827\n",
            "   2.97982845]]\n"
          ]
        }
      ]
    },
    {
      "cell_type": "code",
      "source": [],
      "metadata": {
        "colab": {
          "base_uri": "https://localhost:8080/"
        },
        "id": "PJn0i6HB33D-",
        "outputId": "0a73cecc-e3c5-42fd-98b3-44a2b1101200"
      },
      "execution_count": null,
      "outputs": [
        {
          "output_type": "stream",
          "name": "stdout",
          "text": [
            "total no. of misclassification\n",
            "18\n"
          ]
        }
      ]
    },
    {
      "cell_type": "code",
      "source": [
        "from sklearn.linear_model import Perceptron\n",
        "per = Perceptron(eta0 = 0.001, random_state =0)\n",
        "per.fit(x_train_sc, y_train)\n",
        "y_pred = per.predict(x_test_sc)\n",
        "print('misclassified samples: %d'%(y_test!=y_pred).sum())\n",
        "from sklearn.metrics import accuracy_score\n",
        "print('Accuracy:%.2f'%accuracy_score(y_test,y_pred))"
      ],
      "metadata": {
        "id": "QI09mdJBzWyO"
      },
      "execution_count": null,
      "outputs": []
    },
    {
      "cell_type": "code",
      "source": [
        "from sklearn.linear_model import LogisticRegression\n",
        "lr = LogisticRegression(C = 200, random_state =0)\n",
        "lr.fit(x_train_sc, y_train)\n",
        "y_pred = lr.predict(x_test_sc)\n",
        "print('misclassified samples: %d'%(y_test!=y_pred).sum())\n",
        "\n",
        "print('Accuracy:%.2f'%accuracy_score(y_test,y_pred))"
      ],
      "metadata": {
        "id": "NSpVVFS2HnF1",
        "colab": {
          "base_uri": "https://localhost:8080/"
        },
        "outputId": "f4b3d240-650e-459e-d34e-d55a4272ef74"
      },
      "execution_count": null,
      "outputs": [
        {
          "output_type": "stream",
          "name": "stdout",
          "text": [
            "misclassified samples: 27\n",
            "Accuracy:0.82\n"
          ]
        }
      ]
    },
    {
      "cell_type": "code",
      "source": [
        "from sklearn.neighbors import KNeighborsClassifier\n",
        "knn = KNeighborsClassifier(n_neighbors=5, p=2,\n",
        "                            metric='minkowski')\n",
        "knn.fit(x_train_sc, y_train)\n",
        "y_pred=knn.predict(x_test_sc)\n",
        "print('misclassified samples: %d'%(y_test!=y_pred).sum())\n",
        "from sklearn.metrics import accuracy_score\n",
        "print('Accuracy:%.2f'%accuracy_score(y_test,y_pred))"
      ],
      "metadata": {
        "id": "rtfMx6IRztqQ",
        "colab": {
          "base_uri": "https://localhost:8080/"
        },
        "outputId": "e4ade76a-5f56-420f-ee4c-f4c83db86a00"
      },
      "execution_count": null,
      "outputs": [
        {
          "output_type": "stream",
          "name": "stdout",
          "text": [
            "misclassified samples: 31\n",
            "Accuracy:0.80\n"
          ]
        }
      ]
    },
    {
      "cell_type": "code",
      "source": [
        "from sklearn.svm import SVC\n",
        "classifier = SVC(kernel='linear', C=1, random_state=0)\n",
        "classifier.fit(x_train_sc, y_train)\n",
        "y_pred=classifier.predict(x_test_sc)\n",
        "print('misclassified samples: %d'%(y_test!=y_pred).sum())\n",
        "from sklearn.metrics import accuracy_score\n",
        "print('Accuracy:%.2f'%accuracy_score(y_test,y_pred))"
      ],
      "metadata": {
        "colab": {
          "base_uri": "https://localhost:8080/"
        },
        "id": "7AVVupYnCPKK",
        "outputId": "8927143d-8ba4-4f3d-e902-3785fefcf76d"
      },
      "execution_count": 29,
      "outputs": [
        {
          "output_type": "stream",
          "name": "stdout",
          "text": [
            "misclassified samples: 12\n",
            "Accuracy:0.87\n"
          ]
        }
      ]
    },
    {
      "cell_type": "code",
      "source": [
        "train_size=[30,50,60,80,88]\n",
        "accuracy_PCT=[0.63,0.73,0.73,0.66,0.81]\n",
        "accuracy_LR=[0.77,0.77,0.78,0.82,0.87]\n",
        "accuracy_KNN=[0.70,0.75,0.77,0.80,0.83]\n",
        "accuracy_SVM=[0.78,0.78,0.78,0.82,0.87]\n",
        "accuracy_DNN=[0.66,0.69,0.72,0.73,0.76]"
      ],
      "metadata": {
        "id": "nISVtOFoz5ox"
      },
      "execution_count": 38,
      "outputs": []
    },
    {
      "cell_type": "code",
      "source": [
        "import matplotlib.pyplot as plt"
      ],
      "metadata": {
        "id": "oLMtzJgzz5Qr"
      },
      "execution_count": 19,
      "outputs": []
    },
    {
      "cell_type": "code",
      "source": [
        "plt.title('Perceptron vs L.Regression vs KNN vs SVM')  \n",
        "plt.xlabel('train size')  \n",
        "plt.ylabel('accuacy score')  \n",
        "plt.plot(train_size,accuracy_PCT,'c',label = 'perceptron')\n",
        "plt.plot(train_size,accuracy_LR, 'y',label = 'Logistic Regression')\n",
        "plt.plot(train_size,accuracy_KNN,'r',label = 'KNN')\n",
        "plt.plot(train_size,accuracy_SVM, 'b',label = 'SVM')\n",
        "plt.plot(train_size,accuracy_DNN, 'g',label = 'DNN')\n",
        "plt.legend()\n",
        "plt.show()"
      ],
      "metadata": {
        "id": "HQOojCVZ0BkL",
        "colab": {
          "base_uri": "https://localhost:8080/",
          "height": 295
        },
        "outputId": "717f6619-6999-4bc1-fc12-3617f8725f8d"
      },
      "execution_count": 39,
      "outputs": [
        {
          "output_type": "display_data",
          "data": {
            "text/plain": [
              "<Figure size 432x288 with 1 Axes>"
            ],
            "image/png": "[encoded data removed]"
          },
          "metadata": {
            "needs_background": "light"
          }
        }
      ]
    },
    {
      "cell_type": "code",
      "source": [
        "# accuracy score on the training data\n",
        "x_train_prediction = classifier.predict(x_train_sc)\n",
        "training_data_accuracy = accuracy_score(x_train_prediction, y_train)\n",
        "print(training_data_accuracy)"
      ],
      "metadata": {
        "id": "EdNoE4by33AS"
      },
      "execution_count": null,
      "outputs": []
    },
    {
      "cell_type": "code",
      "source": [
        "#new\n",
        "from sklearn.metrics import confusion_matrix\n",
        "conf = confusion_matrix(y_test,y_pred)\n",
        "conf"
      ],
      "metadata": {
        "colab": {
          "base_uri": "https://localhost:8080/"
        },
        "id": "fjNXTcZkAucf",
        "outputId": "7aad3e34-f469-4904-9bc5-dc449b556c71"
      },
      "execution_count": 33,
      "outputs": [
        {
          "output_type": "execute_result",
          "data": {
            "text/plain": [
              "array([[61,  4],\n",
              "       [ 8, 20]])"
            ]
          },
          "metadata": {},
          "execution_count": 33
        }
      ]
    },
    {
      "cell_type": "code",
      "source": [
        "# accuracy score on the test data\n",
        "x_test_prediction = classifier.predict(x_test_sc)\n",
        "test_data_accuracy = accuracy_score(x_test_prediction, y_test)\n",
        "print(test_data_accuracy)"
      ],
      "metadata": {
        "colab": {
          "base_uri": "https://localhost:8080/"
        },
        "id": "g8z_KPtr32-k",
        "outputId": "cc575723-4b85-47df-f07e-9d067c9fdb92"
      },
      "execution_count": null,
      "outputs": [
        {
          "output_type": "stream",
          "name": "stdout",
          "text": [
            "0.8709677419354839\n"
          ]
        }
      ]
    },
    {
      "cell_type": "code",
      "source": [
        "x_test_prediction = classifier.predict(x_test_sc)\n",
        "test_data_accuracy = accuracy_score(x_test_prediction, y_test)\n",
        "print(test_data_accuracy)"
      ],
      "metadata": {
        "colab": {
          "base_uri": "https://localhost:8080/"
        },
        "id": "hqqO325RChYd",
        "outputId": "f70fc84f-7809-472f-829c-4aaa8f11fa1e"
      },
      "execution_count": 32,
      "outputs": [
        {
          "output_type": "stream",
          "name": "stdout",
          "text": [
            "0.8709677419354839\n"
          ]
        }
      ]
    },
    {
      "cell_type": "code",
      "source": [
        "pip install scikit-fuzzy"
      ],
      "metadata": {
        "id": "HjmGlGMTgT3H",
        "colab": {
          "base_uri": "https://localhost:8080/"
        },
        "outputId": "01024598-0cd8-4db6-ad91-32535b066510"
      },
      "execution_count": 34,
      "outputs": [
        {
          "output_type": "stream",
          "name": "stdout",
          "text": [
            "Looking in indexes: https://pypi.org/simple, https://us-python.pkg.dev/colab-wheels/public/simple/\n",
            "Requirement already satisfied: scikit-fuzzy in /usr/local/lib/python3.8/dist-packages (0.4.2)\n",
            "Requirement already satisfied: networkx>=1.9.0 in /usr/local/lib/python3.8/dist-packages (from scikit-fuzzy) (3.0)\n",
            "Requirement already satisfied: numpy>=1.6.0 in /usr/local/lib/python3.8/dist-packages (from scikit-fuzzy) (1.21.6)\n",
            "Requirement already satisfied: scipy>=0.9.0 in /usr/local/lib/python3.8/dist-packages (from scikit-fuzzy) (1.7.3)\n"
          ]
        }
      ]
    },
    {
      "cell_type": "code",
      "source": [
        "import warnings\n",
        "from sklearn.exceptions import DataConversionWarning\n",
        "warnings.filterwarnings(action='ignore', category=UserWarning)"
      ],
      "metadata": {
        "id": "EkMSWioWgTma"
      },
      "execution_count": 35,
      "outputs": []
    },
    {
      "cell_type": "code",
      "source": [
        "pg=int(input(\"Enter no. of pregnancies: \"))\n",
        "gl=int(input(\"Enter level of glucose: \"))\n",
        "bp=int(input(\"Enter blood pressure:\"))\n",
        "st=int(input(\"Enter skin thikness: \"))\n",
        "ins=int(input(\"Enter insulin level: \"))\n",
        "bmi=float(input(\"Enter bmi: \"))\n",
        "dpf=float(input(\"Enter diabetic pedegree fn(): \"))\n",
        "age=int(input(\"Enter age of the patient: \"))\n",
        "input_data = (pg,gl,bp,st,ins,bmi,dpf,age)\n",
        "# changing the input_data to numpy array\n",
        "input_data_as_numpy_array = np.asarray(input_data)\n",
        "\n",
        "# reshape the array as we are predicting for one instance\n",
        "input_data_reshaped = input_data_as_numpy_array.reshape(1,-1)\n",
        "print(input_data_reshaped)\n",
        "\n",
        "# standardize the input data\n",
        "std_data = sc.transform(input_data_reshaped)\n",
        "\n",
        "prediction = classifier.predict(std_data)\n",
        "print()\n",
        "print(prediction)\n",
        "print()\n",
        "if (prediction[0] == 0):\n",
        "  print('....The person is not diabetic....')\n",
        "\n",
        "else:\n",
        "  print('....The person is diabetic....')\n",
        "  print()  \n",
        "  \n",
        "  import skfuzzy as fuzz\n",
        "  from skfuzzy import control as ctrl\n",
        "  import matplotlib.pyplot as plt\n",
        "\n",
        "  #Input [Antecedent] and output [Consequent] variable P->Q\n",
        "  bloodpressure=ctrl.Antecedent(np.arange(0,150,1),'bloodpressure')\n",
        "  bodymassindex=ctrl.Antecedent(np.arange(0,80 ,1),'bodymassindex')\n",
        "  glucose=ctrl.Antecedent(np.arange(0,200,1),'glucose')\n",
        "  diabetic_complexity=ctrl.Consequent(np.arange(0,101,1),'diabetic_complexity')\n",
        "  covid_risk=ctrl.Consequent(np.arange(0,101,1),'covid_risk')\n",
        "\n",
        "  bloodpressure['vlow']=fuzz.trapmf(bloodpressure.universe,[0,20,25,40])\n",
        "  bloodpressure['low']=fuzz.trapmf(bloodpressure.universe,[25,40,55,60])\n",
        "  bloodpressure['med']=fuzz.trapmf(bloodpressure.universe,[55,60,80,90])\n",
        "  bloodpressure['high']=fuzz.trapmf(bloodpressure.universe,[80,90,115,130])\n",
        "  bloodpressure['vhigh']=fuzz.trapmf(bloodpressure.universe,[115,130,150,150])\n",
        "  #bloodpressure.view()\n",
        "  bodymassindex['l']=fuzz.trapmf(bodymassindex.universe,[0,0,20,30])\n",
        "  bodymassindex['a']=fuzz.trapmf(bodymassindex.universe,[20,30,50,70])\n",
        "  bodymassindex['h']=fuzz.trapmf(bodymassindex.universe,[50,70,100,100])\n",
        "  #bodymassindex.view()\n",
        "  glucose['ll']=fuzz.trapmf(glucose.universe,[0,0,70,100])\n",
        "  glucose['al']=fuzz.trapmf(glucose.universe,[70,100,110,150])\n",
        "  glucose['hl']=fuzz.trapmf(glucose.universe,[110,150,200,200])\n",
        "  #glucose.view()\n",
        "\n",
        "\n",
        "  diabetic_complexity['lc']=fuzz.trapmf(diabetic_complexity.universe,[0,0,40,50])\n",
        "  diabetic_complexity['mc']=fuzz.trapmf(diabetic_complexity.universe,[40,50,55,80])\n",
        "  diabetic_complexity['vc']=fuzz.trapmf(diabetic_complexity.universe,[55,80,100,100])\n",
        "  #diabetic_complexity.view()\n",
        "\n",
        "\n",
        "  covid_risk['lr']=fuzz.trapmf(covid_risk.universe,[0,0,45,50])\n",
        "  covid_risk['mr']=fuzz.trapmf(covid_risk.universe,[45,50,60,70])\n",
        "  covid_risk['hr']=fuzz.trapmf(covid_risk.universe,[60,70,100,100])\n",
        "  #covid_risk.view()\n",
        "  #covid_risk['hr'].view() # plot only hp of covid_risk\n",
        "\n",
        "  # Design set rules [Knowledge base]\n",
        "  rule1a1=ctrl.Rule(bloodpressure['low'] & bodymassindex['l'] & glucose['ll'], diabetic_complexity['vc'])\n",
        "  rule1b1=ctrl.Rule(bloodpressure['low'] & bodymassindex['l'] & glucose['ll'], covid_risk['hr'])\n",
        "\n",
        "  rule1a2=ctrl.Rule(bloodpressure['low'] & bodymassindex['l'] & glucose['al'], diabetic_complexity['mc'])\n",
        "  rule1b2=ctrl.Rule(bloodpressure['low'] & bodymassindex['l'] & glucose['al'], covid_risk['mr'])\n",
        "\n",
        "  rule1a3=ctrl.Rule(bloodpressure['low'] & bodymassindex['l'] & glucose['hl'], diabetic_complexity['vc'])\n",
        "  rule1b3=ctrl.Rule(bloodpressure['low'] & bodymassindex['l'] & glucose['hl'], covid_risk['hr'])\n",
        "\n",
        "  rule1a4=ctrl.Rule(bloodpressure['low'] & bodymassindex['a'] & glucose['ll'], diabetic_complexity['mc'])\n",
        "  rule1b4=ctrl.Rule(bloodpressure['low'] & bodymassindex['a'] & glucose['ll'], covid_risk['lr'])\n",
        "\n",
        "  rule1a5=ctrl.Rule(bloodpressure['low'] & bodymassindex['a'] & glucose['al'], diabetic_complexity['lc'])\n",
        "  rule1b5=ctrl.Rule(bloodpressure['low'] & bodymassindex['a'] & glucose['al'], covid_risk['lr'])\n",
        "\n",
        "  rule1a6=ctrl.Rule(bloodpressure['low'] & bodymassindex['a'] & glucose['hl'], diabetic_complexity['mc'])\n",
        "  rule1b6=ctrl.Rule(bloodpressure['low'] & bodymassindex['a'] & glucose['hl'], covid_risk['mr'])\n",
        "\n",
        "  rule1a7=ctrl.Rule(bloodpressure['low'] & bodymassindex['h'] & glucose['ll'], diabetic_complexity['lc'])\n",
        "  rule1b7=ctrl.Rule(bloodpressure['low'] & bodymassindex['h'] & glucose['ll'], covid_risk['lr'])\n",
        "\n",
        "  rule1a8=ctrl.Rule(bloodpressure['low'] & bodymassindex['h'] & glucose['al'], diabetic_complexity['lc'])\n",
        "  rule1b8=ctrl.Rule(bloodpressure['low'] & bodymassindex['h'] & glucose['al'], covid_risk['lr'])\n",
        "\n",
        "  rule1a9=ctrl.Rule(bloodpressure['low'] & bodymassindex['h'] & glucose['hl'], diabetic_complexity['vc'])\n",
        "  rule1b9=ctrl.Rule(bloodpressure['low'] & bodymassindex['h'] & glucose['hl'], covid_risk['hr'])\n",
        "\n",
        "  rule2a1=ctrl.Rule(bloodpressure['med'] & bodymassindex['l'] & glucose['ll'], diabetic_complexity['mc'])\n",
        "  rule2b1=ctrl.Rule(bloodpressure['med'] & bodymassindex['l'] & glucose['ll'], covid_risk['mr'])\n",
        "\n",
        "  rule2a2=ctrl.Rule(bloodpressure['med'] & bodymassindex['l'] & glucose['al'], diabetic_complexity['lc'])\n",
        "  rule2b2=ctrl.Rule(bloodpressure['med'] & bodymassindex['l'] & glucose['al'], covid_risk['lr'])\n",
        "\n",
        "  rule2a3=ctrl.Rule(bloodpressure['med'] & bodymassindex['l'] & glucose['hl'], diabetic_complexity['vc'])\n",
        "  rule2b3=ctrl.Rule(bloodpressure['med'] & bodymassindex['l'] & glucose['hl'], covid_risk['mr'])\n",
        "\n",
        "\n",
        "  rule2a4=ctrl.Rule(bloodpressure['med'] & bodymassindex['a'] & glucose['ll'], diabetic_complexity['lc'])\n",
        "  rule2b4=ctrl.Rule(bloodpressure['med'] & bodymassindex['a'] & glucose['ll'], covid_risk['lr'])\n",
        "\n",
        "  rule2a5=ctrl.Rule(bloodpressure['med'] & bodymassindex['a'] & glucose['al'], diabetic_complexity['lc'])\n",
        "  rule2b5=ctrl.Rule(bloodpressure['med'] & bodymassindex['a'] & glucose['al'], covid_risk['lr'])\n",
        "\n",
        "  rule2a6=ctrl.Rule(bloodpressure['med'] & bodymassindex['a'] & glucose['hl'], diabetic_complexity['mc'])\n",
        "  rule2b6=ctrl.Rule(bloodpressure['med'] & bodymassindex['a'] & glucose['hl'], covid_risk['mr'])\n",
        "\n",
        "\n",
        "  rule2a7=ctrl.Rule(bloodpressure['med'] & bodymassindex['h'] & glucose['ll'], diabetic_complexity['lc'])\n",
        "  rule2b7=ctrl.Rule(bloodpressure['med'] & bodymassindex['h'] & glucose['ll'], covid_risk['mr'])\n",
        "\n",
        "  rule2a8=ctrl.Rule(bloodpressure['med'] & bodymassindex['h'] & glucose['al'], diabetic_complexity['lc'])\n",
        "  rule2b8=ctrl.Rule(bloodpressure['med'] & bodymassindex['h'] & glucose['al'], covid_risk['mr'])\n",
        "\n",
        "  rule2a9=ctrl.Rule(bloodpressure['med'] & bodymassindex['h'] & glucose['hl'], diabetic_complexity['vc'])\n",
        "  rule2b9=ctrl.Rule(bloodpressure['med'] & bodymassindex['h'] & glucose['hl'], covid_risk['hr'])\n",
        "\n",
        "  rule3a1=ctrl.Rule(bloodpressure['high'] & bodymassindex['l'] & glucose['ll'], diabetic_complexity['mc'])\n",
        "  rule3b1=ctrl.Rule(bloodpressure['high'] & bodymassindex['l'] & glucose['ll'], covid_risk['lr'])\n",
        "\n",
        "  rule3a2=ctrl.Rule(bloodpressure['high'] & bodymassindex['l'] & glucose['al'], diabetic_complexity['lc'])\n",
        "  rule3b2=ctrl.Rule(bloodpressure['high'] & bodymassindex['l'] & glucose['al'], covid_risk['lr'])\n",
        "\n",
        "  rule3a3=ctrl.Rule(bloodpressure['high'] & bodymassindex['l'] & glucose['hl'], diabetic_complexity['vc'])\n",
        "  rule3b3=ctrl.Rule(bloodpressure['high'] & bodymassindex['l'] & glucose['hl'], covid_risk['mr'])\n",
        "\n",
        "  rule3a4=ctrl.Rule(bloodpressure['high'] & bodymassindex['a'] & glucose['ll'], diabetic_complexity['mc'])\n",
        "  rule3b4=ctrl.Rule(bloodpressure['high'] & bodymassindex['a'] & glucose['ll'], covid_risk['lr'])\n",
        "\n",
        "  rule3a5=ctrl.Rule(bloodpressure['high'] & bodymassindex['a'] & glucose['al'], diabetic_complexity['lc'])\n",
        "  rule3b5=ctrl.Rule(bloodpressure['high'] & bodymassindex['a'] & glucose['al'], covid_risk['lr'])\n",
        "\n",
        "  rule3a6=ctrl.Rule(bloodpressure['high'] & bodymassindex['a'] & glucose['hl'], diabetic_complexity['mc'])\n",
        "  rule3b6=ctrl.Rule(bloodpressure['high'] & bodymassindex['a'] & glucose['hl'], covid_risk['mr'])\n",
        "\n",
        "  rule3a7=ctrl.Rule(bloodpressure['high'] & bodymassindex['h'] & glucose['ll'], diabetic_complexity['lc'])\n",
        "  rule3b7=ctrl.Rule(bloodpressure['high'] & bodymassindex['h'] & glucose['ll'], covid_risk['mr'])\n",
        "\n",
        "  rule3a8=ctrl.Rule(bloodpressure['high'] & bodymassindex['h'] & glucose['al'], diabetic_complexity['lc'])\n",
        "  rule3b8=ctrl.Rule(bloodpressure['high'] & bodymassindex['h'] & glucose['al'], covid_risk['lr'])\n",
        "\n",
        "  rule3a9=ctrl.Rule(bloodpressure['high'] & bodymassindex['h'] & glucose['hl'], diabetic_complexity['vc'])\n",
        "  rule3b9=ctrl.Rule(bloodpressure['high'] & bodymassindex['h'] & glucose['hl'], covid_risk['hr'])\n",
        "\n",
        "  rule4a1=ctrl.Rule(bloodpressure['vhigh'] & bodymassindex['l'] & glucose['ll'], diabetic_complexity['mc'])\n",
        "  rule4b1=ctrl.Rule(bloodpressure['vhigh'] & bodymassindex['l'] & glucose['ll'], covid_risk['hr'])\n",
        "\n",
        "  rule4a2=ctrl.Rule(bloodpressure['vhigh'] & bodymassindex['l'] & glucose['al'], diabetic_complexity['lc'])\n",
        "  rule4b2=ctrl.Rule(bloodpressure['vhigh'] & bodymassindex['l'] & glucose['al'], covid_risk['mr'])\n",
        "\n",
        "  rule4a3=ctrl.Rule(bloodpressure['vhigh'] & bodymassindex['l'] & glucose['hl'], diabetic_complexity['mc'])\n",
        "  rule4b3=ctrl.Rule(bloodpressure['vhigh'] & bodymassindex['l'] & glucose['hl'], covid_risk['mr'])\n",
        "\n",
        "  rule4a4=ctrl.Rule(bloodpressure['vhigh'] & bodymassindex['a'] & glucose['ll'], diabetic_complexity['lc'])\n",
        "  rule4b4=ctrl.Rule(bloodpressure['vhigh'] & bodymassindex['a'] & glucose['ll'], covid_risk['mr'])\n",
        "\n",
        "  rule4a5=ctrl.Rule(bloodpressure['vhigh'] & bodymassindex['a'] & glucose['al'], diabetic_complexity['lc'])\n",
        "  rule4b5=ctrl.Rule(bloodpressure['vhigh'] & bodymassindex['a'] & glucose['al'], covid_risk['lr'])\n",
        "\n",
        "  rule4a6=ctrl.Rule(bloodpressure['vhigh'] & bodymassindex['a'] & glucose['hl'], diabetic_complexity['vc'])\n",
        "  rule4b6=ctrl.Rule(bloodpressure['vhigh'] & bodymassindex['a'] & glucose['hl'], covid_risk['hr'])\n",
        "\n",
        "  rule4a7=ctrl.Rule(bloodpressure['vhigh'] & bodymassindex['h'] & glucose['ll'], diabetic_complexity['mc'])\n",
        "  rule4b7=ctrl.Rule(bloodpressure['vhigh'] & bodymassindex['h'] & glucose['ll'], covid_risk['hr'])\n",
        "\n",
        "  rule4a8=ctrl.Rule(bloodpressure['vhigh'] & bodymassindex['h'] & glucose['al'], diabetic_complexity['mc'])\n",
        "  rule4b8=ctrl.Rule(bloodpressure['vhigh'] & bodymassindex['h'] & glucose['al'], covid_risk['mr'])\n",
        "\n",
        "  rule4a9=ctrl.Rule(bloodpressure['vhigh'] & bodymassindex['h'] & glucose['hl'], diabetic_complexity['vc'])\n",
        "  rule4b9=ctrl.Rule(bloodpressure['vhigh'] & bodymassindex['h'] & glucose['hl'], covid_risk['hr'])\n",
        "\n",
        "\n",
        "\n",
        "\n",
        "  # FIS system\n",
        "  cl_controller=ctrl.ControlSystem([rule1a1,rule1b1,rule1a2,rule1b2,rule1a3,rule1b3,rule1a4,rule1b4,rule1a5,rule1b5,rule1a6,rule1b6,rule1a7,rule1b7,rule1a8,rule1b8,rule1a9,rule1b9,rule2a1,rule2b1,rule2a2,rule2b2,rule2a3,rule2b3,rule2a4,rule2b4,rule2a5,rule2b5,rule2a6,rule2b6,rule2a7,rule2b7,rule2a8,rule2b8,rule2a9,rule2b9,rule3a1,rule3b1,rule3a2,rule3b2,rule3a3,rule3b3,rule3a4,rule3b4,rule3a5,rule3b5,rule3a6,rule3b6,rule3a7,rule3b7,rule3a8,rule3b8,rule3a9,rule3b9,rule4a1,rule4b1,rule4a2,rule4b2,rule4a3,rule4b3,rule4a4,rule4b4,rule4a5,rule4b5,rule4a6,rule4b6,rule4a7,rule4b7,rule4a8,rule4b8,rule4a9,rule4b9])\n",
        "  clsc=ctrl.ControlSystemSimulation(cl_controller)\n",
        "\n",
        "\n",
        "  clsc.input['bloodpressure']=bp\n",
        "  clsc.input['bodymassindex']=bmi\n",
        "  clsc.input['glucose']=gl\n",
        "  clsc.compute()\n",
        "  print(\"Diabetic complexity persentage: \",clsc.output['diabetic_complexity'])\n",
        "  print(\"Covid risk persantage: \",clsc.output['covid_risk'])\n",
        "\n",
        "  diabetic_complexity.view(sim=clsc)\n",
        "  covid_risk.view(sim=clsc)"
      ],
      "metadata": {
        "id": "CnPqFyQH326p",
        "colab": {
          "base_uri": "https://localhost:8080/",
          "height": 825
        },
        "outputId": "d9bb2b17-3097-43fa-8d6c-5f3cf9afdcd2"
      },
      "execution_count": 36,
      "outputs": [
        {
          "output_type": "stream",
          "name": "stdout",
          "text": [
            "Enter no. of pregnancies: 5\n",
            "Enter level of glucose: 148\n",
            "Enter blood pressure:73\n",
            "Enter skin thikness: 35\n",
            "Enter insulin level: 0\n",
            "Enter bmi: 33.6\n",
            "Enter diabetic pedegree fn(): 0.627\n",
            "Enter age of the patient: 50\n",
            "[[  5.    148.     73.     35.      0.     33.6     0.627  50.   ]]\n",
            "\n",
            "[1]\n",
            "\n",
            "....The person is diabetic....\n",
            "\n",
            "Diabetic complexity persentage:  54.187408649299265\n",
            "Covid risk persantage:  52.48655739478526\n"
          ]
        },
        {
          "output_type": "display_data",
          "data": {
            "text/plain": [
              "<Figure size 432x288 with 1 Axes>"
            ],
            "image/png": "[encoded data removed]"
          },
          "metadata": {
            "needs_background": "light"
          }
        },
        {
          "output_type": "display_data",
          "data": {
            "text/plain": [
              "<Figure size 432x288 with 1 Axes>"
            ],
            "image/png": "[encoded data removed]"
          },
          "metadata": {
            "needs_background": "light"
          }
        }
      ]
    },
    {
      "cell_type": "markdown",
      "source": [
        "\n",
        "\n",
        "```\n",
        "`# This is formatted as code`\n",
        "```\n",
        "\n",
        "# Thank you!"
      ],
      "metadata": {
        "id": "GAvJPxLT370e"
      }
    },
    {
      "cell_type": "code",
      "source": [],
      "metadata": {
        "id": "vw1N2VW_3213"
      },
      "execution_count": null,
      "outputs": []
    },
    {
      "cell_type": "code",
      "source": [],
      "metadata": {
        "id": "n_WnGQZz320S"
      },
      "execution_count": null,
      "outputs": []
    }
  ]
}